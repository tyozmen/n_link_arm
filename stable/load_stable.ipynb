{
 "cells": [
  {
   "cell_type": "code",
   "execution_count": 1,
   "metadata": {},
   "outputs": [
    {
     "name": "stdout",
     "output_type": "stream",
     "text": [
      "(4,)\n"
     ]
    },
    {
     "name": "stderr",
     "output_type": "stream",
     "text": [
      "/home/sgillen/anaconda3/envs/mat/lib/python3.7/site-packages/gym/logger.py:34: UserWarning: \u001b[33mWARN: Box bound precision lowered by casting to float32\u001b[0m\n",
      "  warnings.warn(colorize(\"%s: %s\" % (\"WARN\", msg % args), \"yellow\"))\n"
     ]
    },
    {
     "name": "stdout",
     "output_type": "stream",
     "text": [
      "(4,)\n",
      "(4,)\n",
      "(4,)\n",
      "(4,)\n",
      "(4,)\n",
      "(4,)\n",
      "(4,)\n"
     ]
    }
   ],
   "source": [
    "import os\n",
    "from matlab_gym.mat_gym_mmap import MatlabGymMmapWrapper \n",
    "from stable_baselines3.common.vec_env import VecNormalize\n",
    "from stable_baselines3.common.env_util import make_vec_env\n",
    "from functools import partial\n",
    "from gym import register\n",
    "from seagul.zoo3_utils import ALGOS\n",
    "import pandas as pd\n",
    "\n",
    "env_script = \"make_1dof_env\"\n",
    "exp_path = f\"/home/sgillen/work/n_link_arm/stable/sb3_data/{env_script}\"\n",
    "\n",
    "env_partial = partial(MatlabGymMmapWrapper, \"/home/sgillen/work/n_link_arm/\", env_script)\n",
    "register(\"bball_1dof-v0\", entry_point = env_partial)\n",
    "\n",
    "model_dict = {}\n",
    "normalizer_dict = {}\n",
    "df_dict = {}\n",
    "\n",
    "for algo_dir in os.scandir(exp_path):\n",
    "    algo_name = algo_dir.path.split(\"/\")[-1]\n",
    "    ALGO = ALGOS[algo_name]\n",
    "    \n",
    "    if not algo_name in model_dict:\n",
    "        model_dict[algo_name] = []\n",
    "    if not algo_name in df_dict:\n",
    "        df_dict[algo_name] = []\n",
    "    if not algo_name in normalizer_dict:\n",
    "        normalizer_dict[algo_name] = []\n",
    "    \n",
    "    for seed_dir in os.scandir(algo_dir.path):   \n",
    "        seed =  seed_dir.path.split(\"/\")[-1]\n",
    "        df_dict[algo_name].append(pd.read_csv(f\"{seed_dir.path}/0.monitor.csv\", skiprows=1))\n",
    "        model_dict[algo_name].append(ALGO.load(f\"{seed_dir.path}/model.pkl\", mapped_devic='cpu'))\n",
    "        env = make_vec_env('bball_1dof-v0', n_envs = 1)\n",
    "        env = VecNormalize.load(f\"{seed_dir.path}/vecnormalize.pkl\", env)\n",
    "        normalizer_dict[algo_name].append(env.normalize_obs)"
   ]
  },
  {
   "cell_type": "code",
   "execution_count": 3,
   "metadata": {},
   "outputs": [
    {
     "data": {
      "text/plain": [
       "<bound method VecNormalize.normalize_obs of <stable_baselines3.common.vec_env.vec_normalize.VecNormalize object at 0x7f16559a07d0>>"
      ]
     },
     "execution_count": 3,
     "metadata": {},
     "output_type": "execute_result"
    }
   ],
   "source": [
    "model_dict['ppo'][0].predict\n",
    "normalizer_dict['ppo'][0]"
   ]
  },
  {
   "cell_type": "code",
   "execution_count": null,
   "metadata": {},
   "outputs": [],
   "source": []
  }
 ],
 "metadata": {
  "kernelspec": {
   "display_name": "Matlab Engine",
   "language": "python",
   "name": "mat"
  },
  "language_info": {
   "codemirror_mode": {
    "name": "ipython",
    "version": 3
   },
   "file_extension": ".py",
   "mimetype": "text/x-python",
   "name": "python",
   "nbconvert_exporter": "python",
   "pygments_lexer": "ipython3",
   "version": "3.7.11"
  }
 },
 "nbformat": 4,
 "nbformat_minor": 4
}
